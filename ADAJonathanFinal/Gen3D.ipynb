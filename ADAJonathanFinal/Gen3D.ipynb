{
 "cells": [
  {
   "cell_type": "markdown",
   "metadata": {},
   "source": [
    "# Proyecto Final Analisis y Diseno de Algortimos\n",
    "## Jonathan Valencia\n",
    "\n",
    " \n",
    "## Conversion de figuras geometricas en imagenes 2D a un modelo 3D\n"
   ]
  },
  {
   "cell_type": "markdown",
   "metadata": {},
   "source": [
    "OpenCV (pip install opencv-contrib-python) es una libreria enfocada en problemas de vision artificial, critica para nuestro proyecto por su modulo de procesamiento de imagenes geometricas.\n",
    "\n",
    "\n",
    "La funcion de dimensionamiento requiere de 3 vistas de la figura (frente,lateral y superior) y nos permitira deliniear las imagenes en sus bordes. Y posteriormente nos permitira mutiplicar el valor del radio con estas lineas de contorno para tener la longitud total."
   ]
  },
  {
   "cell_type": "code",
   "execution_count": 70,
   "metadata": {},
   "outputs": [],
   "source": [
    "import time\n",
    "import os\n",
    "import shutil\n",
    "##############\n",
    "import cv2\n",
    "##############\n",
    "import numpy as np\n",
    "from IPython.display import Image\n",
    "from utils.tree import createtree\n",
    "from utils.operation import *\n",
    "\n",
    "\n",
    "def Dimensioning(userId,view,image):\n",
    "\n",
    "    #Carpeta temporal para guardar las imagenes con contornos\n",
    "    os.makedirs('static/temp', exist_ok=True)\n",
    "    #leemos la imagen\n",
    "    img = cv2.imread(image,cv2.IMREAD_UNCHANGED)\n",
    "    #Inicializacion \n",
    "    ratio = 0\n",
    "    shape = \"unidentified\"\n",
    "    #Getting the size of image\n",
    "    try:\n",
    "        w,h,_=img.shape\n",
    "        drawSize = int(h/300)\n",
    "        #si se requiere y la imagen esta en color se convierte a escala de grises\n",
    "        imgrey = cv2.cvtColor(img.copy(),cv2.COLOR_BGR2GRAY)\n",
    "        #Y luego a binario\n",
    "        ret, thresh = cv2.threshold(imgrey,127,255,cv2.THRESH_BINARY_INV)\n",
    "        #Encotramos los contornos\n",
    "        contours, hierarchy = cv2.findContours(thresh,cv2.RETR_CCOMP,cv2.CHAIN_APPROX_SIMPLE)\n",
    "        #sort de los contornos de area para identificar el contorno mas grande\n",
    "        hierarchy,contours = zip(*sorted(zip(hierarchy[0],contours),key = lambda x: cv2.contourArea(x[1]),reverse=True))\n",
    "\n",
    "        for i,c in enumerate(contours):\n",
    "            #usamos el contorno mas grande\n",
    "            if(hierarchy[i][3] != -1  or (hierarchy[i][3] == -1 and hierarchy[i][2] == -1) ):\n",
    "                M = cv2.moments(c)\n",
    "                if(M[\"m00\"] !=0):\n",
    "                    cX = int(M[\"m10\"] / M[\"m00\"])\n",
    "                    cY = int(M[\"m01\"] / M[\"m00\"])\n",
    "                    #obtener el area minima del contorno\n",
    "                    rect = cv2.minAreaRect(c)\n",
    "                    box = cv2.boxPoints(rect)\n",
    "                    box = np.int0(box)\n",
    "                    x,y,w,h = cv2.boundingRect(c)\n",
    "                    #detectar formas\n",
    "                    shape, cylinder_type = detect(c)              \n",
    "                    if(shape == \"unidentified\"):\n",
    "                        continue\n",
    "\n",
    "                    if(shape==\"triangle\" or shape==\"pentagon\" or shape==\"hexagon\"):\n",
    "                        img = cv2.drawContours(img, [box], 0, (0,0, 255), drawSize)\n",
    "                    # w ancho del rectangulo rodeando el circulo\n",
    "                    if(shape==\"circle\"):\n",
    "                        # remarcar contornos\n",
    "                        img = cv2.rectangle(img,(x,y),(x+w,y+h),(0, 0, 255),drawSize)\n",
    "                        cv2.line(img, (x,y), (x+w,y), (0,255, 0), 2)\n",
    "                        ratio = 1/w\n",
    "                    else:\n",
    "                        \n",
    "                        cv2.line(img, tuple(box[0]), tuple(box[1]), (0,255, 0), 2)\n",
    "                        #Largo por pixel\n",
    "                        ratio = 1.0/rect[1][1]\n",
    "                    break\n",
    "\n",
    "        #guardar imagen con contornos\n",
    "        folder = 'static/temp/' + userId\n",
    "        os.makedirs(folder, exist_ok=True)\n",
    "        #si el archivo existe se elimina\n",
    "        try:\n",
    "            os.remove(folder + '/' + view + '.jpg')\n",
    "        except: pass\n",
    "\n",
    "        path_file = (folder + '/' + view + '.jpg')\n",
    "\n",
    "        #reducir tamaño de imagen\n",
    "        small = cv2.resize(img, (0,0), fx=0.5, fy=0.5) \n",
    "        cv2.imwrite(path_file,small)\n",
    "        #Convertir a string\n",
    "        ratio = str(ratio)\n",
    "        #guardar datos en archivo\n",
    "        data={'image': path_file,'shape': shape,'ratio': ratio}\n",
    "        display(Image(filename = path_file))\n",
    "        return data\n",
    "    except:\n",
    "      print(view + \"image not found\")"
   ]
  },
  {
   "cell_type": "markdown",
   "metadata": {},
   "source": [
    "## Funcion de Conversion\n",
    "Una vez que tenemos las 3 imagenes y la longitud, procedemos a crear el modelo 3D"
   ]
  },
  {
   "cell_type": "code",
   "execution_count": 71,
   "metadata": {},
   "outputs": [],
   "source": [
    "def Convert(userId, front_image, side_image, top_image, fratio, sratio, tratio):\n",
    "    # comienza cronometro \n",
    "    start = time.time() \n",
    "    os.makedirs('static/'+userId, exist_ok=True)\n",
    "\n",
    "    img_front = cv2.imread(front_image,cv2.IMREAD_UNCHANGED)\n",
    "    img_side = cv2.imread(side_image,cv2.IMREAD_UNCHANGED)\n",
    "    img_top = cv2.imread(top_image,cv2.IMREAD_UNCHANGED)\n",
    "\n",
    "    fratio = float(fratio)\n",
    "    sratio = float(sratio)\n",
    "    tratio = float(tratio)\n",
    "    filePath = \"static/temp/\"+userId\n",
    "#Remover archivos temporales\n",
    "    try:\n",
    "        shutil.rmtree(filePath)\n",
    "    except OSError as e:\n",
    "        print (\"Error: %s - %s.\" % (e.filename, e.strerror))\n",
    "\n",
    "    primitive = []\n",
    "    #front\n",
    "    object_front = valid_contours(img_front,\"front\",fratio)\n",
    "    re_arrange(object_front,\"front\")\n",
    "    \n",
    "    #side\n",
    "    object_side = valid_contours(img_side,\"side\",sratio)\n",
    "    re_arrange(object_side,\"side\")\n",
    "\n",
    "    #Top\n",
    "    object_top = valid_contours(img_top,\"top\",tratio)\n",
    "    re_arrange(object_top,\"top\")\n",
    "\n",
    "    #umbral de error        \n",
    "#     minApprox = 4 * max(fratio,sratio,tratio)\n",
    "    minApprox = 0.05\n",
    "    primitive = combining(object_front,object_side,object_top,minApprox)\n",
    "    final = []\n",
    "    for set in primitive:\n",
    "        for shape in set:\n",
    "            final.append(shape[0])\n",
    "    \n",
    "    #si el archivo existe se elimina\n",
    "    try:\n",
    "        os.remove('static/' + userId + \"/\" + userId + '.scad')\n",
    "    except: pass\n",
    "\n",
    "    #Generar archivo .scad\n",
    "    path_file = ('static/' + userId + \"/\" + userId + '.scad')\n",
    "    #si la lista esta vacia se genera una ecepcion\n",
    "    if(len(final) == 0):\n",
    "        path_file = 'static/error.txt'\n",
    "        f = open(path_file, \"w\")\n",
    "        f.write(\"No se pudo determinar la geometria del objetco, intenta otra figura!\")\n",
    "        f.close()\n",
    "    createtree(final,path_file)\n",
    "    # fin del cronometro \n",
    "    end = time.time() \n",
    "    print(\"Tiempo total:\",end-start)\n",
    "    return path_file\n"
   ]
  },
  {
   "cell_type": "markdown",
   "metadata": {},
   "source": [
    "## Ejecucion\n",
    "Comenzamos leyendo las 3 imagenes del repositorio:"
   ]
  },
  {
   "cell_type": "code",
   "execution_count": 72,
   "metadata": {},
   "outputs": [
    {
     "data": {
      "text/plain": [
       "'Repository/random/front.jpg'"
      ]
     },
     "execution_count": 72,
     "metadata": {},
     "output_type": "execute_result"
    }
   ],
   "source": [
    "userId=\"random\"\n",
    "front_image = \"Repository/\"+userId+\"/front.jpg\"\n",
    "side_image = \"Repository/\"+userId+\"/side.jpg\"\n",
    "top_image = \"Repository/\"+userId+\"/top.jpg\"\n",
    "front_image"
   ]
  },
  {
   "cell_type": "markdown",
   "metadata": {},
   "source": [
    "Se usa el dimensionamiento en la vista frontal"
   ]
  },
  {
   "cell_type": "code",
   "execution_count": 73,
   "metadata": {},
   "outputs": [
    {
     "data": {
      "image/jpeg": "[encoded data removed]",
      "text/plain": [
       "<IPython.core.display.Image object>"
      ]
     },
     "metadata": {},
     "output_type": "display_data"
    },
    {
     "data": {
      "text/plain": [
       "{'image': 'static/temp/random/front.jpg',\n",
       " 'shape': 'pentagon',\n",
       " 'ratio': '0.0019478109358456418'}"
      ]
     },
     "execution_count": 73,
     "metadata": {},
     "output_type": "execute_result"
    }
   ],
   "source": [
    "d1 = Dimensioning(userId,\"front\",front_image)\n",
    "d1"
   ]
  },
  {
   "cell_type": "markdown",
   "metadata": {},
   "source": [
    "Vista lateral:\n"
   ]
  },
  {
   "cell_type": "code",
   "execution_count": 74,
   "metadata": {},
   "outputs": [
    {
     "data": {
      "image/jpeg": "[encoded data removed]",
      "text/plain": [
       "<IPython.core.display.Image object>"
      ]
     },
     "metadata": {},
     "output_type": "display_data"
    },
    {
     "data": {
      "text/plain": [
       "{'image': 'static/temp/random/side.jpg',\n",
       " 'shape': 'rectangle',\n",
       " 'ratio': '0.0052083341611757535'}"
      ]
     },
     "execution_count": 74,
     "metadata": {},
     "output_type": "execute_result"
    }
   ],
   "source": [
    "d2 = Dimensioning(userId,\"side\",side_image)\n",
    "d2"
   ]
  },
  {
   "cell_type": "markdown",
   "metadata": {},
   "source": [
    "Vista superior:"
   ]
  },
  {
   "cell_type": "code",
   "execution_count": 75,
   "metadata": {},
   "outputs": [
    {
     "data": {
      "image/jpeg": "[encoded data removed]",
      "text/plain": [
       "<IPython.core.display.Image object>"
      ]
     },
     "metadata": {},
     "output_type": "display_data"
    },
    {
     "data": {
      "text/plain": [
       "{'image': 'static/temp/random/top.jpg',\n",
       " 'shape': 'rectangle',\n",
       " 'ratio': '0.003472222222222222'}"
      ]
     },
     "execution_count": 75,
     "metadata": {},
     "output_type": "execute_result"
    }
   ],
   "source": [
    "d3 = Dimensioning(userId,\"top\",top_image)\n",
    "d3"
   ]
  },
  {
   "cell_type": "markdown",
   "metadata": {},
   "source": [
    "Despues tenemos que multiplicar los radios extraidos de la funcion de dimension con las longitudes fijas\n",
    "Esto permite respeta el pixel:dimension para que no varie con los pixeles de las imagenes\n"
   ]
  },
  {
   "cell_type": "code",
   "execution_count": 76,
   "metadata": {},
   "outputs": [],
   "source": [
    "\n",
    "fratio = float(d1[\"ratio\"]) * 2 #ancho del regangulo para frontal\n",
    "sratio = float(d2[\"ratio\"]) * 3 \n",
    "tratio = float(d3[\"ratio\"]) * 1.73 "
   ]
  },
  {
   "cell_type": "markdown",
   "metadata": {},
   "source": [
    "Finalmente, llamamos a la funcion convert para generar el modelo 3D scad model y su path"
   ]
  },
  {
   "cell_type": "code",
   "execution_count": 77,
   "metadata": {},
   "outputs": [
    {
     "name": "stdout",
     "output_type": "stream",
     "text": [
      "Subtree: 2\n",
      "Tiempo total: 0.016984939575195312\n"
     ]
    },
    {
     "data": {
      "text/plain": [
       "'static/random/random.scad'"
      ]
     },
     "execution_count": 77,
     "metadata": {},
     "output_type": "execute_result"
    }
   ],
   "source": [
    "Convert(userId,front_image, side_image, top_image,fratio, sratio, tratio)"
   ]
  }
 ],
 "metadata": {
  "kernelspec": {
   "display_name": "Python 3.10.6 64-bit",
   "language": "python",
   "name": "python3"
  },
  "language_info": {
   "codemirror_mode": {
    "name": "ipython",
    "version": 3
   },
   "file_extension": ".py",
   "mimetype": "text/x-python",
   "name": "python",
   "nbconvert_exporter": "python",
   "pygments_lexer": "ipython3",
   "version": "3.10.6"
  },
  "vscode": {
   "interpreter": {
    "hash": "aee8b7b246df8f9039afb4144a1f6fd8d2ca17a180786b69acc140d282b71a49"
   }
  }
 },
 "nbformat": 4,
 "nbformat_minor": 4
}
